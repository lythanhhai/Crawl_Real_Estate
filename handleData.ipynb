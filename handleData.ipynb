{
 "cells": [
  {
   "cell_type": "code",
   "execution_count": 24,
   "metadata": {},
   "outputs": [
    {
     "name": "stdout",
     "output_type": "stream",
     "text": [
      "                                                  title  \\\n",
      "0     Căn hộ nghỉ dưỡng ngay trung tâm hà nội chỉ 1 ...   \n",
      "1     Căn 2 pn full nội thất view hồ 10ha. công viên...   \n",
      "2     Duy nhất căn 2 ngủ tầng đẹp giá 1 tỷ 779triệu,...   \n",
      "3     Nhận nhà ở ngay không lo trả lãi tại teccodiam...   \n",
      "4     Chính chủ bán căn hộ chung cư citadines centra...   \n",
      "...                                                 ...   \n",
      "2672  Mở bán căn hộ tttp.thuận an, giá 896 triêu/căn...   \n",
      "2673  48m2 bàn giao 1pn có thể tự ngăn thành 2pn, ch...   \n",
      "2674  Sắp mở bán dự án căn hộ thuận an - giá gốc đầu...   \n",
      "2675  Căn hộ độc tôn ngay tp.thuận an cạnh aeon mall...   \n",
      "2676  Vista riverside sắp nhận nhà. ban công view tr...   \n",
      "\n",
      "                                                address   area  price  \\\n",
      "0     Vinhomes Smart City, Phường Trung Văn, Quận Na...   30.0  1.250   \n",
      "1     Vinhomes Smart City, Phường Cầu Diễn, Quận Nam...   55.0  2.100   \n",
      "2     Tecco Diamond, Xã Tứ Hiệp, Huyện Thanh Trì, Hà...   65.0  1.700   \n",
      "3     Tecco Diamond, Thị Trấn Văn Điển, Huyện Thanh ...   69.0  1.930   \n",
      "4     Citadines Bình Dương, Phường An Thạnh, Thị Xã ...  114.0  3.050   \n",
      "...                                                 ...    ...    ...   \n",
      "2672        Legacy Central, Thị Xã Thuận An, Bình Dương   42.0  0.896   \n",
      "2673  Căn hộ Vista Riverside, Thị Xã Thuận An, Bình ...   48.0  1.200   \n",
      "2674        Legacy Central, Thị Xã Thuận An, Bình Dương   33.0  0.800   \n",
      "2675        Legacy Central, Thị Xã Thuận An, Bình Dương   32.0  0.800   \n",
      "2676  Căn hộ Vista Riverside, Thị Xã Thuận An, Bình ...   43.0  0.965   \n",
      "\n",
      "      number_bedroom  number_wc  number_floor direction  entrance  facade  \\\n",
      "0                1.0        1.0          27.0  Đông bắc      30.0    30.0   \n",
      "1                2.0        1.0          20.0  Đông bắc      50.0     5.0   \n",
      "2                2.0        2.0           NaN       NaN       NaN     NaN   \n",
      "3                2.0        2.0           NaN       NaN       NaN     NaN   \n",
      "4                3.0        2.0          16.0       NaN      50.0     NaN   \n",
      "...              ...        ...           ...       ...       ...     ...   \n",
      "2672             1.0        1.0           NaN       NaN       NaN     NaN   \n",
      "2673             1.0        1.0          10.0       NaN       NaN     NaN   \n",
      "2674             1.0        1.0           NaN       NaN       NaN     NaN   \n",
      "2675             1.0        1.0           NaN       NaN       NaN     NaN   \n",
      "2676             1.0        1.0           NaN       NaN       NaN     NaN   \n",
      "\n",
      "      number_parking  id_estate  \n",
      "0                3.0    3947348  \n",
      "1                3.0    3947371  \n",
      "2                1.0    3946737  \n",
      "3                1.0    3946177  \n",
      "4                NaN    3944714  \n",
      "...              ...        ...  \n",
      "2672             NaN    3931551  \n",
      "2673             NaN    3931239  \n",
      "2674             NaN    3932155  \n",
      "2675             NaN    3918708  \n",
      "2676             NaN    3876132  \n",
      "\n",
      "[2518 rows x 12 columns]\n"
     ]
    }
   ],
   "source": [
    "import numpy as np\n",
    "import pandas as pd\n",
    "import matplotlib.pyplot as plt\n",
    "import seaborn as sns\n",
    "\n",
    "data = pd.read_csv(\"rawData.csv\")\n",
    "count = 0\n",
    "data[\"price\"] = data[\"price\"].replace(\"Thỏa thuận\", \"-1\")\n",
    "data[\"price\"] = data[\"price\"].astype(float)\n",
    "\n",
    "for i in range(len(data)):\n",
    "    if data[\"price\"][i] > 10 or data[\"price\"][i] < 0:\n",
    "        data = data.drop(i)\n",
    "    \n",
    "data.to_csv(\"/home/binbin/University/semester2_2122/Data_Science/Crawl_Real_Estate/rawData_1.csv\")\n",
    "print(data)\n"
   ]
  }
 ],
 "metadata": {
  "kernelspec": {
   "display_name": "Python 3.8.10 64-bit",
   "language": "python",
   "name": "python3"
  },
  "language_info": {
   "codemirror_mode": {
    "name": "ipython",
    "version": 3
   },
   "file_extension": ".py",
   "mimetype": "text/x-python",
   "name": "python",
   "nbconvert_exporter": "python",
   "pygments_lexer": "ipython3",
   "version": "3.8.10"
  },
  "orig_nbformat": 4,
  "vscode": {
   "interpreter": {
    "hash": "916dbcbb3f70747c44a77c7bcd40155683ae19c65e1c03b4aa3499c5328201f1"
   }
  }
 },
 "nbformat": 4,
 "nbformat_minor": 2
}
