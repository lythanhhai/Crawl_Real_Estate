{
 "cells": [
  {
   "cell_type": "markdown",
   "metadata": {},
   "source": [
    "# 1. mô tả các thống kê tổng quan về tập dữ liệu (số mẫu, số đặc trưng của 1 mẫu, kiểu dữ liệu của mỗi đặc trưng, số mẫu dữ liệu trống của mỗi đặc trưng,...)"
   ]
  },
  {
   "cell_type": "code",
   "execution_count": 1,
   "metadata": {},
   "outputs": [
    {
     "ename": "ModuleNotFoundError",
     "evalue": "No module named 'numpy'",
     "output_type": "error",
     "traceback": [
      "\u001b[1;31m---------------------------------------------------------------------------\u001b[0m",
      "\u001b[1;31mModuleNotFoundError\u001b[0m                       Traceback (most recent call last)",
      "\u001b[1;32mc:\\Users\\ADMIN\\Desktop\\Crawl_Real_Estate\\EDA copy.ipynb Cell 2'\u001b[0m in \u001b[0;36m<cell line: 2>\u001b[1;34m()\u001b[0m\n\u001b[0;32m      <a href='vscode-notebook-cell:/c%3A/Users/ADMIN/Desktop/Crawl_Real_Estate/EDA%20copy.ipynb#ch0000001?line=0'>1</a>\u001b[0m \u001b[39m# import thu vien\u001b[39;00m\n\u001b[1;32m----> <a href='vscode-notebook-cell:/c%3A/Users/ADMIN/Desktop/Crawl_Real_Estate/EDA%20copy.ipynb#ch0000001?line=1'>2</a>\u001b[0m \u001b[39mimport\u001b[39;00m \u001b[39mnumpy\u001b[39;00m \u001b[39mas\u001b[39;00m \u001b[39mnp\u001b[39;00m\n\u001b[0;32m      <a href='vscode-notebook-cell:/c%3A/Users/ADMIN/Desktop/Crawl_Real_Estate/EDA%20copy.ipynb#ch0000001?line=2'>3</a>\u001b[0m \u001b[39mimport\u001b[39;00m \u001b[39mpandas\u001b[39;00m \u001b[39mas\u001b[39;00m \u001b[39mpd\u001b[39;00m\n\u001b[0;32m      <a href='vscode-notebook-cell:/c%3A/Users/ADMIN/Desktop/Crawl_Real_Estate/EDA%20copy.ipynb#ch0000001?line=3'>4</a>\u001b[0m \u001b[39mimport\u001b[39;00m \u001b[39mmatplotlib\u001b[39;00m\u001b[39m.\u001b[39;00m\u001b[39mpyplot\u001b[39;00m \u001b[39mas\u001b[39;00m \u001b[39mplt\u001b[39;00m\n",
      "\u001b[1;31mModuleNotFoundError\u001b[0m: No module named 'numpy'"
     ]
    }
   ],
   "source": [
    "# import thu vien\n",
    "import numpy as np\n",
    "import pandas as pd\n",
    "import matplotlib.pyplot as plt\n",
    "import seaborn as sns\n",
    "from scipy.stats import norm"
   ]
  },
  {
   "cell_type": "code",
   "execution_count": null,
   "metadata": {},
   "outputs": [],
   "source": [
    "data = pd.read_csv(\"rawData.csv\")\n",
    "#data.drop(columns=['Unnamed: 12', 'Unnamed: 13'],inplace=True)\n"
   ]
  },
  {
   "cell_type": "code",
   "execution_count": null,
   "metadata": {},
   "outputs": [],
   "source": [
    "data.columns"
   ]
  },
  {
   "cell_type": "code",
   "execution_count": null,
   "metadata": {},
   "outputs": [],
   "source": [
    "data.head()"
   ]
  },
  {
   "cell_type": "code",
   "execution_count": null,
   "metadata": {},
   "outputs": [],
   "source": [
    "data.isnull().sum()\n",
    "\n"
   ]
  },
  {
   "cell_type": "code",
   "execution_count": null,
   "metadata": {},
   "outputs": [],
   "source": [
    "# data[\"area\"] = data[\"area\"].astype(float)\n",
    "data[\"price\"] = data[\"price\"].replace(\"Thỏa thuận\", \"0\")\n",
    "data[\"price\"] = data[\"price\"].astype(float)\n",
    "data.describe()"
   ]
  },
  {
   "cell_type": "code",
   "execution_count": null,
   "metadata": {},
   "outputs": [],
   "source": [
    "# count = 0\n",
    "# for i in range(len(data[\"price\"])):\n",
    "#     if data[\"price\"][i] > 10 :\n",
    "#         count += 1\n",
    "#         # print(data1[\"price\"][i])\n",
    "#         data[\"price\"] = data[\"price\"].replace(data[\"price\"][i], 0)\n",
    "    \n",
    "# # count \n",
    "# print(data)"
   ]
  },
  {
   "cell_type": "markdown",
   "metadata": {},
   "source": [
    "# 2. xuất ra các thống kê mô tả trực quan về các đặc trưng (ví dụ: dùng boxplot, histogram, scatter plot về độ tương quan,…).\n"
   ]
  },
  {
   "cell_type": "markdown",
   "metadata": {},
   "source": [
    "- Do tuong quan giua cac dac trung"
   ]
  },
  {
   "cell_type": "code",
   "execution_count": null,
   "metadata": {},
   "outputs": [],
   "source": [
    "corr = data.corr().round(2)\n",
    "mask = np.zeros_like(corr)\n",
    "plt.subplots(figsize=(16, 8))\n",
    "ax = sns.heatmap(corr, annot=True, linewidths=.5)"
   ]
  },
  {
   "cell_type": "markdown",
   "metadata": {},
   "source": [
    "- phan bo cua dac trung"
   ]
  },
  {
   "cell_type": "code",
   "execution_count": null,
   "metadata": {},
   "outputs": [],
   "source": [
    "fig, axes = plt.subplots(3, 3, figsize=(20, 12))\n",
    "\n",
    "fig.suptitle('Distribution Feature')\n",
    "\n",
    "sns.histplot(data= data[\"area\"], bins= 12, kde= False, ax= axes[0, 0])\n",
    "sns.histplot(data= data[\"price\"], bins= 12, kde= False, ax= axes[0, 1])\n",
    "sns.histplot(data= data[\"number_bedroom\"], bins= 12, kde= False, ax= axes[0, 2])\n",
    "sns.histplot(data= data[\"number_wc\"], bins= 12, kde= False, ax= axes[1, 0])\n",
    "sns.histplot(data= data[\"number_floor\"], bins= 12, kde= False, ax= axes[1, 1])\n",
    "sns.histplot(data= data[\"entrance\"], bins= 12, kde= False, ax= axes[1, 2])\n",
    "sns.histplot(data= data[\"facade\"], bins= 12, kde= False, ax= axes[2, 0])\n",
    "sns.histplot(data= data[\"number_parking\"], bins= 12, kde= False, ax= axes[2, 1])\n",
    "sns.histplot(data= data[\"id_estate\"], bins= 12, kde= False, ax= axes[2, 2])\n"
   ]
  },
  {
   "cell_type": "code",
   "execution_count": null,
   "metadata": {},
   "outputs": [],
   "source": [
    "from typing import Tuple\n",
    "from sklearn.base import BaseEstimator, TransformerMixin\n",
    "\n",
    "\n",
    "def find_boxplot_boundaries(\n",
    "    col: pd.Series, whisker_coeff: float = 1.5\n",
    ") -> Tuple[float, float]:\n",
    "    \"\"\"Findx minimum and maximum in boxplot.\n",
    "\n",
    "    Args:\n",
    "        col: a pandas serires of input.\n",
    "        whisker_coeff: whisker coefficient in box plot\n",
    "    \"\"\"\n",
    "    Q1 = col.quantile(0.25)\n",
    "    Q3 = col.quantile(0.75)\n",
    "    IQR = Q3 - Q1\n",
    "    lower = Q1 - whisker_coeff * IQR\n",
    "    upper = Q3 + whisker_coeff * IQR\n",
    "    return lower, upper\n",
    "\n",
    "\n",
    "class BoxplotOutlierClipper(BaseEstimator, TransformerMixin):\n",
    "    def __init__(self, whisker_coeff: float = 1.5):\n",
    "        self.whisker = whisker_coeff\n",
    "        self.lower = None\n",
    "        self.upper = None\n",
    "\n",
    "    def fit(self, X: pd.Series):\n",
    "        self.lower, self.upper = find_boxplot_boundaries(X, self.whisker)\n",
    "        return self\n",
    "\n",
    "    def transform(self, X):\n",
    "        return X.clip(self.lower, self.upper)"
   ]
  },
  {
   "cell_type": "code",
   "execution_count": null,
   "metadata": {},
   "outputs": [],
   "source": [
    "\n",
    "\n",
    "data[\"area\"] = BoxplotOutlierClipper().fit_transform(data[\"area\"])\n",
    "\n",
    "fig, axes = plt.subplots(nrows=1, ncols=2, figsize=(15, 5))\n",
    "data[\"area\"].hist(bins=50, ax=axes[0])\n",
    "data[\"area\"].to_frame().boxplot(ax=axes[1], vert=False)\n"
   ]
  },
  {
   "cell_type": "code",
   "execution_count": null,
   "metadata": {},
   "outputs": [],
   "source": []
  },
  {
   "cell_type": "code",
   "execution_count": null,
   "metadata": {},
   "outputs": [],
   "source": [
    "data[\"number_bedroom\"] = BoxplotOutlierClipper().fit_transform(data[\"number_bedroom\"])\n",
    "\n",
    "fig, axes = plt.subplots(nrows=1, ncols=2, figsize=(15, 5))\n",
    "data[\"number_bedroom\"].hist(bins=50, ax=axes[0])\n",
    "data[\"number_bedroom\"].to_frame().boxplot(ax=axes[1], vert=False);"
   ]
  },
  {
   "cell_type": "code",
   "execution_count": null,
   "metadata": {},
   "outputs": [],
   "source": [
    "data[\"number_wc\"] = BoxplotOutlierClipper().fit_transform(data[\"number_wc\"])\n",
    "\n",
    "fig, axes = plt.subplots(nrows=1, ncols=2, figsize=(15, 5))\n",
    "data[\"number_wc\"].hist(bins=50, ax=axes[0])\n",
    "data[\"number_wc\"].to_frame().boxplot(ax=axes[1], vert=False);"
   ]
  },
  {
   "cell_type": "code",
   "execution_count": null,
   "metadata": {},
   "outputs": [],
   "source": [
    "data[\"number_floor\"] = BoxplotOutlierClipper().fit_transform(data[\"number_floor\"])\n",
    "\n",
    "fig, axes = plt.subplots(nrows=1, ncols=2, figsize=(15, 5))\n",
    "data[\"number_floor\"].hist(bins=50, ax=axes[0])\n",
    "data[\"number_floor\"].to_frame().boxplot(ax=axes[1], vert=False);"
   ]
  },
  {
   "cell_type": "markdown",
   "metadata": {},
   "source": [
    "- quan he giua gia ca voi cac dac trung"
   ]
  },
  {
   "cell_type": "code",
   "execution_count": null,
   "metadata": {},
   "outputs": [],
   "source": []
  },
  {
   "cell_type": "code",
   "execution_count": null,
   "metadata": {},
   "outputs": [],
   "source": [
    "fig, axes = plt.subplots(2, 3, figsize=(20, 12))\n",
    "\n",
    "fig.suptitle('Distribution Feature')\n",
    "\n",
    "sns.scatterplot(data=data, x=\"price\", y=\"area\", ax= axes[0, 0])\n",
    "sns.scatterplot(data=data, x=\"price\", y=\"number_bedroom\", ax= axes[0, 1])\n",
    "sns.scatterplot(data=data, x=\"price\", y=\"number_wc\", ax= axes[0, 2])\n",
    "sns.scatterplot(data=data, x=\"price\", y=\"number_floor\", ax= axes[1, 0])\n"
   ]
  },
  {
   "cell_type": "code",
   "execution_count": null,
   "metadata": {},
   "outputs": [],
   "source": [
    "# data[\"address\"] = address_stat = data[\"address\"].apply(lambda x: x.split(\",\")[len(x.split(\",\")) - 1])\n",
    "data[\"address\"] = data[\"address\"].apply(lambda x: x.split(\",\")[len(x.split(\",\")) - 1])\n",
    "\n",
    "address_stats = data.groupby('address')[\"address\"].agg('count').sort_values(ascending= False)\n",
    "address_stats"
   ]
  },
  {
   "cell_type": "code",
   "execution_count": null,
   "metadata": {},
   "outputs": [],
   "source": [
    "data1 = data.copy()\n",
    "data1['number_bedroom'] = data1['number_bedroom'].replace(np.nan, np.nanmedian(data1['number_bedroom']))\n",
    "data1['number_wc'] = data1['number_wc'].replace(np.nan, np.nanmedian(data1['number_wc']))\n",
    "data1['number_floor'] = data1['number_floor'].replace(np.nan, np.nanmedian(data1['number_floor']))\n",
    "data1['entrance'] = data1['entrance'].replace(np.nan, np.nanmedian(data1['entrance']))\n",
    "data1['facade'] = data1['facade'].replace(np.nan, np.nanmedian(data1['facade']))\n",
    "data1['number_parking'] = data1['number_parking'].replace(np.nan, np.nanmedian(data1['number_parking']))\n",
    "data1.isna().sum()\n",
    "# print(np.nanmedian(data1['number_parking']))"
   ]
  },
  {
   "cell_type": "code",
   "execution_count": null,
   "metadata": {},
   "outputs": [],
   "source": [
    "data1.head()"
   ]
  },
  {
   "cell_type": "code",
   "execution_count": null,
   "metadata": {},
   "outputs": [],
   "source": [
    "from sklearn.preprocessing import LabelEncoder\n",
    "\n",
    "gle = LabelEncoder()\n",
    "genre_labels = gle.fit_transform(data1['address'])\n",
    "genre_mappings = {index: label for index, label in \n",
    "                  enumerate(gle.classes_)}\n",
    "# genre_mappings\n",
    "data1\n"
   ]
  },
  {
   "cell_type": "code",
   "execution_count": null,
   "metadata": {},
   "outputs": [],
   "source": [
    "# corr = data1.corr().round(2)\n",
    "# mask = np.zeros_like(corr)\n",
    "# plt.subplots(figsize=(16, 8))\n",
    "# ax = sns.heatmap(corr, vmin=0, vmax=1, annot=True, linewidths=.5)"
   ]
  },
  {
   "cell_type": "code",
   "execution_count": null,
   "metadata": {},
   "outputs": [],
   "source": [
    "# fig, axes = plt.subplots(3, 3, figsize=(20, 12))\n",
    "\n",
    "# fig.suptitle('Distribution Feature')\n",
    "\n",
    "# sns.displot(data= data1[\"area\"])\n",
    "# plt.show()\n",
    "# sns.displot(data= data[\"price\"], ax= axes[0, 1])\n",
    "# sns.displot(data= data[\"number_bedroom\"], ax= axes[0, 2])\n",
    "# sns.displot(data= data[\"number_wc\"], ax= axes[1, 0])\n",
    "# sns.displot(data= data[\"number_floor\"], ax= axes[1, 1])\n",
    "# sns.displot(data= data[\"entrance\"], ax= axes[1, 2])\n",
    "# sns.displot(data= data[\"facade\"], ax= axes[2, 0])\n",
    "# sns.displot(data= data[\"number_parking\"], ax= axes[2, 1])\n",
    "# sns.displot(data= data[\"id_estate\"], ax= axes[2, 2])\n",
    "count = 0\n",
    "for i in range(len(data1[\"price\"])):\n",
    "    if data[\"price\"][i] > 10 :\n",
    "        count += 1\n",
    "        # print(data1[\"price\"][i])\n",
    "        data1[\"price\"] = data1[\"price\"].replace(data1[\"price\"][i], 0)\n",
    "    \n",
    "# count \n",
    "print(data1)"
   ]
  },
  {
   "cell_type": "code",
   "execution_count": null,
   "metadata": {},
   "outputs": [],
   "source": [
    "import numpy as np\n",
    "import pandas as pd\n",
    "import matplotlib.pyplot as plt\n",
    "from matplotlib import style\n",
    "from matplotlib.gridspec import GridSpec\n",
    "import seaborn as sns\n",
    "from scipy import stats\n",
    "from sklearn.linear_model import Ridge\n",
    "from sklearn. impute import SimpleImputer\n",
    "from sklearn.preprocessing import StandardScaler, OneHotEncoder\n",
    "from sklearn.compose import make_column_selector,make_column_transformer\n",
    "from sklearn.pipeline import make_pipeline\n",
    "from sklearn.linear_model import LinearRegression\n",
    "from sklearn.ensemble import RandomForestRegressor \n",
    "from xgboost import XGBRegressor\n",
    "from sklearn.model_selection import cross_val_score, train_test_split\n",
    "import sklearn.metrics as metrics\n",
    "from sklearn.metrics import accuracy_score"
   ]
  },
  {
   "cell_type": "code",
   "execution_count": null,
   "metadata": {},
   "outputs": [],
   "source": [
    "X=data1[[\"area\", \"number_bedroom\", \"number_wc\", \"id_estate\", \"address\",\"number_floor\"]]\n",
    "y = data1[\"price\"].astype(float)\n",
    "X"
   ]
  },
  {
   "cell_type": "code",
   "execution_count": null,
   "metadata": {},
   "outputs": [],
   "source": [
    "imp_median = SimpleImputer(strategy='median', add_indicator=True)\n",
    "scaler = StandardScaler()\n",
    "imp_constant = SimpleImputer(strategy='constant')\n",
    "ohe = OneHotEncoder(handle_unknown='ignore')\n",
    "num_cols = make_column_selector(dtype_include='number')\n",
    "cat_cols = make_column_selector(dtype_exclude='number')\n",
    "preprocessor = make_column_transformer(\n",
    "    (make_pipeline(imp_median, scaler), num_cols),\n",
    "    (make_pipeline(imp_constant, ohe), cat_cols)\n",
    ")"
   ]
  },
  {
   "cell_type": "code",
   "execution_count": null,
   "metadata": {},
   "outputs": [],
   "source": [
    "\n",
    "def pipeline_model1(X, y, data):\n",
    "    pipe = make_pipeline(preprocessor, RandomForestRegressor())\n",
    "\n",
    "    print(cross_val_score(pipe, X, y).mean())\n",
    "\n",
    "    X_train, X_test, y_train, y_test = train_test_split(X, y, test_size=0.3,\n",
    "                                                        random_state=32)\n",
    "\n",
    "    pipe.fit(X_train, y_train)\n",
    "    \n",
    "    predict = pipe.predict(X_test)\n",
    "    scores1 = cross_val_score( pipe, X, y, cv=5)\n",
    "    print('Mean: {:.04f} {:.03f}'.format(np.mean(scores1), np.std(scores1)))\n",
    "   \n",
    "    print(f'MSE             : {metrics.mean_squared_error(y_test, predict)}\\n'\n",
    "          f'\\nRMSE            : '\n",
    "          f'{np.sqrt(metrics.mean_squared_error(y_test, predict))}\\n'\n",
    "          f'MAE             : {metrics.mean_absolute_error(y_test, predict)}\\n'\n",
    "          #f'Mean abs % error: '\n",
    "         \n",
    "          #f'{metrics.mean_absolute_percentage_error(y_test, predict)}\\n'\n",
    "          f'\\n'\n",
    "         f'Score (train)   : {pipe.score(X_train, y_train)}\\n'\n",
    "         f'Score (test)    : {pipe.score(X_test, y_test)}\\n')\n",
    "      \n",
    "    comparison_of_results(X_test, y_test, pipe)\n",
    "    visualize_model_results(data, pipe)\n",
    "def pipeline_model2(X, y, data):\n",
    "    pipe = make_pipeline(preprocessor, XGBRegressor())\n",
    "\n",
    "    print(cross_val_score(pipe, X, y).mean())\n",
    "\n",
    "    X_train, X_test, y_train, y_test = train_test_split(X, y, test_size=0.3,\n",
    "                                                        random_state=32)\n",
    "\n",
    "    pipe.fit(X_train, y_train)\n",
    "\n",
    "    predict = pipe.predict(X_test)\n",
    "    scores1 = cross_val_score( pipe, X, y, cv=5)\n",
    "    print('Mean: {:.04f} {:.03f}'.format(np.mean(scores1), np.std(scores1)))\n",
    "    \n",
    "    print(f'MSE             : {metrics.mean_squared_error(y_test, predict)}\\n'\n",
    "          f'\\nRMSE            : '\n",
    "          f'{np.sqrt(metrics.mean_squared_error(y_test, predict))}\\n'\n",
    "          f'MAE             : {metrics.mean_absolute_error(y_test, predict)}\\n'\n",
    "          #f'Mean abs % error: '\n",
    "          #f'{metrics.mean_absolute_percentage_error(y_test, predict)}\\n'\n",
    "          f'\\n'\n",
    "         \n",
    "        f'Score (train)   : {pipe.score(X_train, y_train)}\\n'\n",
    "         f'Score (test)    : {pipe.score(X_test, y_test)}\\n')\n",
    "        \n",
    "    comparison_of_results(X_test, y_test, pipe)\n",
    "    visualize_model_results(data, pipe)\n",
    "\n",
    "def comparison_of_results(X_test, y_test, model, times=5):\n",
    "    for i in range(times):\n",
    "        rnd = np.random.randint(0, y_test.shape[0] - 1)\n",
    "        real = y_test.iloc[rnd]\n",
    "        pred = float(model.predict(X_test.iloc[rnd].to_frame().T)[0])\n",
    "        print(f'Real Value      ----->>>>> {real} $\\n'\n",
    "              f'Predicted Value ----->>>>> {pred} $')\n",
    "        print()\n",
    "\n",
    "\n",
    "def visualize_model_results(data, model):\n",
    "    fig = plt.figure(figsize=(17, 10))\n",
    "    data = data.sort_values(by=['price'])\n",
    "    X = data[[\"area\", \"number_bedroom\", \"number_wc\", \"id_estate\", \"address\",\"number_floor\"]]\n",
    "    y = data.price.astype(float)\n",
    "    \n",
    "    plt.scatter(range(X.shape[0]), y, color='red', label='Real')\n",
    "    plt.scatter(range(X.shape[0]), model.predict(X), marker='.', label='Predict')\n",
    "\n",
    "    plt.legend(loc=2, prop={'size': 25})"
   ]
  },
  {
   "cell_type": "code",
   "execution_count": null,
   "metadata": {},
   "outputs": [],
   "source": [
    "\n"
   ]
  },
  {
   "cell_type": "code",
   "execution_count": null,
   "metadata": {},
   "outputs": [],
   "source": [
    "pipeline_model1(X, y, data1)"
   ]
  },
  {
   "cell_type": "code",
   "execution_count": null,
   "metadata": {},
   "outputs": [],
   "source": [
    "pipeline_model2(X, y, data1)"
   ]
  }
 ],
 "metadata": {
  "kernelspec": {
   "display_name": "Python 3.10.0 64-bit",
   "language": "python",
   "name": "python3"
  },
  "language_info": {
   "codemirror_mode": {
    "name": "ipython",
    "version": 3
   },
   "file_extension": ".py",
   "mimetype": "text/x-python",
   "name": "python",
   "nbconvert_exporter": "python",
   "pygments_lexer": "ipython3",
   "version": "3.10.0"
  },
  "orig_nbformat": 4,
  "vscode": {
   "interpreter": {
    "hash": "31671a60cee805c34c73116577b485118ff3a75c458d3004d49632c19702ac60"
   }
  }
 },
 "nbformat": 4,
 "nbformat_minor": 2
}
