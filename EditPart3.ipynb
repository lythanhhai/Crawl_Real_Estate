{
 "cells": [
  {
   "cell_type": "code",
   "execution_count": 6,
   "metadata": {},
   "outputs": [],
   "source": [
    "import numpy as np\n",
    "import pandas as pd\n",
    "import matplotlib.pyplot as plt\n",
    "import seaborn as sns\n",
    "data = pd.read_csv('/home/binbin/University/semester2_2122/Data_Science/Ck/rawData.csv',on_bad_lines='skip')"
   ]
  },
  {
   "cell_type": "code",
   "execution_count": 7,
   "metadata": {},
   "outputs": [
    {
     "data": {
      "text/plain": [
       "address\n",
       " Hà Nội                       1251\n",
       " Bình Dương                    540\n",
       " TP HCM                        334\n",
       " Bình Định                     150\n",
       " Đồng Nai                       55\n",
       " Đà Nẵng                        41\n",
       "                                38\n",
       " Khánh Hòa                      36\n",
       "                                25\n",
       " Quảng Ninh                     25\n",
       " Bắc Ninh                       25\n",
       " Bà Rịa - Vũng Tàu              21\n",
       " Hưng Yên                       20\n",
       " Hải Phòng                      17\n",
       " Bắc Giang                      16\n",
       " Thanh Hóa                      13\n",
       " Nghệ An                        12\n",
       " Quảng Bình                     10\n",
       " Vĩnh Phúc                       8\n",
       " Ha Noi                          6\n",
       " Phú Thọ                         5\n",
       " B\\u00ECnh D\\u01B0\\u01A1ng       4\n",
       " Vĩnh Phúc                       4\n",
       " Vĩnh Long                       3\n",
       " B\\u00ECnh \\u0110\\u1ECBnh        3\n",
       " Thái Nguyên                     2\n",
       " Long An                         2\n",
       " Tây Ninh                        2\n",
       " Đắk Lắk                         1\n",
       " Bình Phước                      1\n",
       " Hải Dương                       1\n",
       " Phú Yên                         1\n",
       " H\\u1EA3i Ph\\u00F2ng             1\n",
       " Lâm Đồng                        1\n",
       " Kiên Giang                      1\n",
       " Huế                             1\n",
       " Bến Tre                         1\n",
       "Name: address, dtype: int64"
      ]
     },
     "execution_count": 7,
     "metadata": {},
     "output_type": "execute_result"
    }
   ],
   "source": [
    "data[\"address\"] = address_stat = data[\"address\"].apply(lambda x: x.split(\",\")[len(x.split(\",\")) - 1])\n",
    "\n",
    "address_stats = data.groupby('address')[\"address\"].agg('count').sort_values(ascending= False)\n",
    "address_stats"
   ]
  },
  {
   "cell_type": "markdown",
   "metadata": {},
   "source": [
    "Cleaning data by using fillna with median of that feature"
   ]
  },
  {
   "cell_type": "code",
   "execution_count": 8,
   "metadata": {},
   "outputs": [
    {
     "data": {
      "text/plain": [
       "title                0\n",
       "address              0\n",
       "area                 0\n",
       "price                0\n",
       "number_bedroom       0\n",
       "number_wc            0\n",
       "number_floor         0\n",
       "direction         1480\n",
       "entrance             0\n",
       "facade               0\n",
       "number_parking       0\n",
       "id_estate            0\n",
       "dtype: int64"
      ]
     },
     "execution_count": 8,
     "metadata": {},
     "output_type": "execute_result"
    }
   ],
   "source": [
    "data1 = data.copy()\n",
    "data1['number_bedroom'] = data1['number_bedroom'].replace(np.nan, np.nanmedian(data1['number_bedroom']))\n",
    "data1['number_wc'] = data1['number_wc'].replace(np.nan, np.nanmedian(data1['number_wc']))\n",
    "data1['number_floor'] = data1['number_floor'].replace(np.nan, np.nanmedian(data1['number_floor']))\n",
    "data1['entrance'] = data1['entrance'].replace(np.nan, np.nanmedian(data1['entrance']))\n",
    "data1['facade'] = data1['facade'].replace(np.nan, np.nanmedian(data1['facade']))\n",
    "data1['number_parking'] = data1['number_parking'].replace(np.nan, np.nanmedian(data1['number_parking']))\n",
    "data1.isna().sum()\n",
    "# print(np.nanmedian(data1['number_parking']))"
   ]
  },
  {
   "cell_type": "code",
   "execution_count": 9,
   "metadata": {},
   "outputs": [
    {
     "data": {
      "text/html": [
       "<div>\n",
       "<style scoped>\n",
       "    .dataframe tbody tr th:only-of-type {\n",
       "        vertical-align: middle;\n",
       "    }\n",
       "\n",
       "    .dataframe tbody tr th {\n",
       "        vertical-align: top;\n",
       "    }\n",
       "\n",
       "    .dataframe thead th {\n",
       "        text-align: right;\n",
       "    }\n",
       "</style>\n",
       "<table border=\"1\" class=\"dataframe\">\n",
       "  <thead>\n",
       "    <tr style=\"text-align: right;\">\n",
       "      <th></th>\n",
       "      <th>title</th>\n",
       "      <th>address</th>\n",
       "      <th>area</th>\n",
       "      <th>price</th>\n",
       "      <th>number_bedroom</th>\n",
       "      <th>number_wc</th>\n",
       "      <th>number_floor</th>\n",
       "      <th>direction</th>\n",
       "      <th>entrance</th>\n",
       "      <th>facade</th>\n",
       "      <th>number_parking</th>\n",
       "      <th>id_estate</th>\n",
       "    </tr>\n",
       "  </thead>\n",
       "  <tbody>\n",
       "    <tr>\n",
       "      <th>0</th>\n",
       "      <td>Căn hộ nghỉ dưỡng ngay trung tâm hà nội chỉ 1 ...</td>\n",
       "      <td>Hà Nội</td>\n",
       "      <td>30.0</td>\n",
       "      <td>1.25</td>\n",
       "      <td>1.0</td>\n",
       "      <td>1.0</td>\n",
       "      <td>27.0</td>\n",
       "      <td>Đông bắc</td>\n",
       "      <td>30.0</td>\n",
       "      <td>30.0</td>\n",
       "      <td>3.0</td>\n",
       "      <td>3947348</td>\n",
       "    </tr>\n",
       "    <tr>\n",
       "      <th>1</th>\n",
       "      <td>Căn 2 pn full nội thất view hồ 10ha. công viên...</td>\n",
       "      <td>Hà Nội</td>\n",
       "      <td>55.0</td>\n",
       "      <td>2.1</td>\n",
       "      <td>2.0</td>\n",
       "      <td>1.0</td>\n",
       "      <td>20.0</td>\n",
       "      <td>Đông bắc</td>\n",
       "      <td>50.0</td>\n",
       "      <td>5.0</td>\n",
       "      <td>3.0</td>\n",
       "      <td>3947371</td>\n",
       "    </tr>\n",
       "    <tr>\n",
       "      <th>2</th>\n",
       "      <td>Duy nhất căn 2 ngủ tầng đẹp giá 1 tỷ 779triệu,...</td>\n",
       "      <td>Hà Nội</td>\n",
       "      <td>65.0</td>\n",
       "      <td>1.7</td>\n",
       "      <td>2.0</td>\n",
       "      <td>2.0</td>\n",
       "      <td>20.0</td>\n",
       "      <td>NaN</td>\n",
       "      <td>30.0</td>\n",
       "      <td>30.0</td>\n",
       "      <td>1.0</td>\n",
       "      <td>3946737</td>\n",
       "    </tr>\n",
       "    <tr>\n",
       "      <th>3</th>\n",
       "      <td>Nhận nhà ở ngay không lo trả lãi tại teccodiam...</td>\n",
       "      <td>Hà Nội</td>\n",
       "      <td>69.0</td>\n",
       "      <td>1.93</td>\n",
       "      <td>2.0</td>\n",
       "      <td>2.0</td>\n",
       "      <td>20.0</td>\n",
       "      <td>NaN</td>\n",
       "      <td>30.0</td>\n",
       "      <td>30.0</td>\n",
       "      <td>1.0</td>\n",
       "      <td>3946177</td>\n",
       "    </tr>\n",
       "    <tr>\n",
       "      <th>4</th>\n",
       "      <td>Chính chủ bán căn hộ chung cư citadines centra...</td>\n",
       "      <td>Bình Dương</td>\n",
       "      <td>114.0</td>\n",
       "      <td>3.05</td>\n",
       "      <td>3.0</td>\n",
       "      <td>2.0</td>\n",
       "      <td>16.0</td>\n",
       "      <td>NaN</td>\n",
       "      <td>50.0</td>\n",
       "      <td>30.0</td>\n",
       "      <td>2.0</td>\n",
       "      <td>3944714</td>\n",
       "    </tr>\n",
       "  </tbody>\n",
       "</table>\n",
       "</div>"
      ],
      "text/plain": [
       "                                               title      address   area  \\\n",
       "0  Căn hộ nghỉ dưỡng ngay trung tâm hà nội chỉ 1 ...       Hà Nội   30.0   \n",
       "1  Căn 2 pn full nội thất view hồ 10ha. công viên...       Hà Nội   55.0   \n",
       "2  Duy nhất căn 2 ngủ tầng đẹp giá 1 tỷ 779triệu,...       Hà Nội   65.0   \n",
       "3  Nhận nhà ở ngay không lo trả lãi tại teccodiam...       Hà Nội   69.0   \n",
       "4  Chính chủ bán căn hộ chung cư citadines centra...   Bình Dương  114.0   \n",
       "\n",
       "  price  number_bedroom  number_wc  number_floor direction  entrance  facade  \\\n",
       "0  1.25             1.0        1.0          27.0  Đông bắc      30.0    30.0   \n",
       "1   2.1             2.0        1.0          20.0  Đông bắc      50.0     5.0   \n",
       "2   1.7             2.0        2.0          20.0       NaN      30.0    30.0   \n",
       "3  1.93             2.0        2.0          20.0       NaN      30.0    30.0   \n",
       "4  3.05             3.0        2.0          16.0       NaN      50.0    30.0   \n",
       "\n",
       "   number_parking  id_estate  \n",
       "0             3.0    3947348  \n",
       "1             3.0    3947371  \n",
       "2             1.0    3946737  \n",
       "3             1.0    3946177  \n",
       "4             2.0    3944714  "
      ]
     },
     "execution_count": 9,
     "metadata": {},
     "output_type": "execute_result"
    }
   ],
   "source": [
    "data1.head()"
   ]
  },
  {
   "cell_type": "code",
   "execution_count": 10,
   "metadata": {},
   "outputs": [
    {
     "name": "stderr",
     "output_type": "stream",
     "text": [
      "/home/binbin/.local/lib/python3.8/site-packages/seaborn/distributions.py:2619: FutureWarning: `distplot` is a deprecated function and will be removed in a future version. Please adapt your code to use either `displot` (a figure-level function with similar flexibility) or `histplot` (an axes-level function for histograms).\n",
      "  warnings.warn(msg, FutureWarning)\n",
      "/home/binbin/.local/lib/python3.8/site-packages/seaborn/distributions.py:2619: FutureWarning: `distplot` is a deprecated function and will be removed in a future version. Please adapt your code to use either `displot` (a figure-level function with similar flexibility) or `histplot` (an axes-level function for histograms).\n",
      "  warnings.warn(msg, FutureWarning)\n"
     ]
    },
    {
     "ename": "ValueError",
     "evalue": "could not convert string to float: 'Thỏa thuận'",
     "output_type": "error",
     "traceback": [
      "\u001b[0;31m---------------------------------------------------------------------------\u001b[0m",
      "\u001b[0;31mValueError\u001b[0m                                Traceback (most recent call last)",
      "\u001b[1;32m/home/binbin/University/semester2_2122/Data_Science/Ck/EditPart3.ipynb Cell 6'\u001b[0m in \u001b[0;36m<cell line: 6>\u001b[0;34m()\u001b[0m\n\u001b[1;32m      <a href='vscode-notebook-cell:/home/binbin/University/semester2_2122/Data_Science/Ck/EditPart3.ipynb#ch0000005?line=2'>3</a>\u001b[0m fig\u001b[39m.\u001b[39msuptitle(\u001b[39m'\u001b[39m\u001b[39mDistribution Feature\u001b[39m\u001b[39m'\u001b[39m)\n\u001b[1;32m      <a href='vscode-notebook-cell:/home/binbin/University/semester2_2122/Data_Science/Ck/EditPart3.ipynb#ch0000005?line=4'>5</a>\u001b[0m sns\u001b[39m.\u001b[39mdistplot(data[\u001b[39m\"\u001b[39m\u001b[39marea\u001b[39m\u001b[39m\"\u001b[39m], bins\u001b[39m=\u001b[39m \u001b[39m12\u001b[39m, kde\u001b[39m=\u001b[39m \u001b[39mTrue\u001b[39;00m, ax\u001b[39m=\u001b[39m axes[\u001b[39m0\u001b[39m, \u001b[39m0\u001b[39m])\n\u001b[0;32m----> <a href='vscode-notebook-cell:/home/binbin/University/semester2_2122/Data_Science/Ck/EditPart3.ipynb#ch0000005?line=5'>6</a>\u001b[0m sns\u001b[39m.\u001b[39;49mdistplot(data[\u001b[39m\"\u001b[39;49m\u001b[39mprice\u001b[39;49m\u001b[39m\"\u001b[39;49m], bins\u001b[39m=\u001b[39;49m \u001b[39m12\u001b[39;49m, kde\u001b[39m=\u001b[39;49m \u001b[39mTrue\u001b[39;49;00m, ax\u001b[39m=\u001b[39;49m axes[\u001b[39m0\u001b[39;49m, \u001b[39m1\u001b[39;49m])\n\u001b[1;32m      <a href='vscode-notebook-cell:/home/binbin/University/semester2_2122/Data_Science/Ck/EditPart3.ipynb#ch0000005?line=6'>7</a>\u001b[0m sns\u001b[39m.\u001b[39mdistplot(data[\u001b[39m\"\u001b[39m\u001b[39mnumber_bedroom\u001b[39m\u001b[39m\"\u001b[39m], bins\u001b[39m=\u001b[39m \u001b[39m12\u001b[39m, kde\u001b[39m=\u001b[39m \u001b[39mTrue\u001b[39;00m, ax\u001b[39m=\u001b[39m axes[\u001b[39m0\u001b[39m, \u001b[39m2\u001b[39m])\n\u001b[1;32m      <a href='vscode-notebook-cell:/home/binbin/University/semester2_2122/Data_Science/Ck/EditPart3.ipynb#ch0000005?line=7'>8</a>\u001b[0m sns\u001b[39m.\u001b[39mdistplot(data[\u001b[39m\"\u001b[39m\u001b[39mnumber_wc\u001b[39m\u001b[39m\"\u001b[39m], bins\u001b[39m=\u001b[39m \u001b[39m12\u001b[39m, kde\u001b[39m=\u001b[39m \u001b[39mTrue\u001b[39;00m, ax\u001b[39m=\u001b[39m axes[\u001b[39m1\u001b[39m, \u001b[39m0\u001b[39m])\n",
      "File \u001b[0;32m~/.local/lib/python3.8/site-packages/seaborn/distributions.py:2636\u001b[0m, in \u001b[0;36mdistplot\u001b[0;34m(a, bins, hist, kde, rug, fit, hist_kws, kde_kws, rug_kws, fit_kws, color, vertical, norm_hist, axlabel, label, ax, x)\u001b[0m\n\u001b[1;32m   2633\u001b[0m     a \u001b[39m=\u001b[39m x\n\u001b[1;32m   2635\u001b[0m \u001b[39m# Make a a 1-d float array\u001b[39;00m\n\u001b[0;32m-> 2636\u001b[0m a \u001b[39m=\u001b[39m np\u001b[39m.\u001b[39;49masarray(a, \u001b[39mfloat\u001b[39;49m)\n\u001b[1;32m   2637\u001b[0m \u001b[39mif\u001b[39;00m a\u001b[39m.\u001b[39mndim \u001b[39m>\u001b[39m \u001b[39m1\u001b[39m:\n\u001b[1;32m   2638\u001b[0m     a \u001b[39m=\u001b[39m a\u001b[39m.\u001b[39msqueeze()\n",
      "File \u001b[0;32m~/.local/lib/python3.8/site-packages/pandas/core/series.py:872\u001b[0m, in \u001b[0;36mSeries.__array__\u001b[0;34m(self, dtype)\u001b[0m\n\u001b[1;32m    825\u001b[0m \u001b[39mdef\u001b[39;00m \u001b[39m__array__\u001b[39m(\u001b[39mself\u001b[39m, dtype: npt\u001b[39m.\u001b[39mDTypeLike \u001b[39m|\u001b[39m \u001b[39mNone\u001b[39;00m \u001b[39m=\u001b[39m \u001b[39mNone\u001b[39;00m) \u001b[39m-\u001b[39m\u001b[39m>\u001b[39m np\u001b[39m.\u001b[39mndarray:\n\u001b[1;32m    826\u001b[0m     \u001b[39m\"\"\"\u001b[39;00m\n\u001b[1;32m    827\u001b[0m \u001b[39m    Return the values as a NumPy array.\u001b[39;00m\n\u001b[1;32m    828\u001b[0m \n\u001b[0;32m   (...)\u001b[0m\n\u001b[1;32m    870\u001b[0m \u001b[39m          dtype='datetime64[ns]')\u001b[39;00m\n\u001b[1;32m    871\u001b[0m \u001b[39m    \"\"\"\u001b[39;00m\n\u001b[0;32m--> 872\u001b[0m     \u001b[39mreturn\u001b[39;00m np\u001b[39m.\u001b[39;49masarray(\u001b[39mself\u001b[39;49m\u001b[39m.\u001b[39;49m_values, dtype)\n",
      "\u001b[0;31mValueError\u001b[0m: could not convert string to float: 'Thỏa thuận'"
     ]
    },
    {
     "data": {
      "image/png": "[encoded data removed]",
      "text/plain": [
       "<Figure size 1440x864 with 9 Axes>"
      ]
     },
     "metadata": {
      "needs_background": "light"
     },
     "output_type": "display_data"
    }
   ],
   "source": [
    "fig, axes = plt.subplots(3, 3, figsize=(20, 12))\n",
    "\n",
    "fig.suptitle('Distribution Feature')\n",
    "\n",
    "sns.distplot(data[\"area\"], bins= 12, kde= True, ax= axes[0, 0])\n",
    "sns.distplot(data[\"price\"], bins= 12, kde= True, ax= axes[0, 1])\n",
    "sns.distplot(data[\"number_bedroom\"], bins= 12, kde= True, ax= axes[0, 2])\n",
    "sns.distplot(data[\"number_wc\"], bins= 12, kde= True, ax= axes[1, 0])\n",
    "sns.distplot(data[\"number_floor\"], bins= 12, kde= True, ax= axes[1, 1])\n",
    "sns.distplot(data[\"entrance\"], bins= 12, kde= True, ax= axes[1, 2])\n",
    "sns.distplot(data[\"facade\"], bins= 12, kde= True, ax= axes[2, 0])\n",
    "sns.distplot(data[\"number_parking\"], bins= 12, kde= True, ax= axes[2, 1])\n",
    "sns.distplot(data[\"id_estate\"], bins= 12, kde= True, ax= axes[2, 2])"
   ]
  }
 ],
 "metadata": {
  "kernelspec": {
   "display_name": "Python 3.8.10 64-bit",
   "language": "python",
   "name": "python3"
  },
  "language_info": {
   "codemirror_mode": {
    "name": "ipython",
    "version": 3
   },
   "file_extension": ".py",
   "mimetype": "text/x-python",
   "name": "python",
   "nbconvert_exporter": "python",
   "pygments_lexer": "ipython3",
   "version": "3.8.10"
  },
  "orig_nbformat": 4,
  "vscode": {
   "interpreter": {
    "hash": "916dbcbb3f70747c44a77c7bcd40155683ae19c65e1c03b4aa3499c5328201f1"
   }
  }
 },
 "nbformat": 4,
 "nbformat_minor": 2
}
